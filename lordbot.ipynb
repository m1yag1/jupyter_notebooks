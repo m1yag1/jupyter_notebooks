{
 "cells": [
  {
   "cell_type": "markdown",
   "metadata": {},
   "source": [
    "# Making the Lord Slack Bot\n",
    "\n",
    "Prerequesites:\n",
    "\n",
    "Have a slack api token.\n"
   ]
  },
  {
   "cell_type": "code",
   "execution_count": 1,
   "metadata": {
    "scrolled": true
   },
   "outputs": [
    {
     "name": "stdout",
     "output_type": "stream",
     "text": [
      "Requirement already satisfied: slackclient in /Users/mike/.pyenv/versions/3.6.0a3/lib/python3.6/site-packages\n",
      "Requirement already satisfied: six<2.0a0,>=1.10 in /Users/mike/.pyenv/versions/3.6.0a3/lib/python3.6/site-packages (from slackclient)\n",
      "Requirement already satisfied: requests<3.0a0,>=2.11 in /Users/mike/.pyenv/versions/3.6.0a3/lib/python3.6/site-packages (from slackclient)\n",
      "Requirement already satisfied: websocket-client<1.0a0,>=0.35 in /Users/mike/.pyenv/versions/3.6.0a3/lib/python3.6/site-packages (from slackclient)\n",
      "Requirement already satisfied: certifi>=2017.4.17 in /Users/mike/.pyenv/versions/3.6.0a3/lib/python3.6/site-packages (from requests<3.0a0,>=2.11->slackclient)\n",
      "Requirement already satisfied: urllib3<1.22,>=1.21.1 in /Users/mike/.pyenv/versions/3.6.0a3/lib/python3.6/site-packages (from requests<3.0a0,>=2.11->slackclient)\n",
      "Requirement already satisfied: idna<2.6,>=2.5 in /Users/mike/.pyenv/versions/3.6.0a3/lib/python3.6/site-packages (from requests<3.0a0,>=2.11->slackclient)\n",
      "Requirement already satisfied: chardet<3.1.0,>=3.0.2 in /Users/mike/.pyenv/versions/3.6.0a3/lib/python3.6/site-packages (from requests<3.0a0,>=2.11->slackclient)\n"
     ]
    }
   ],
   "source": [
    "!pip install slackclient"
   ]
  },
  {
   "cell_type": "code",
   "execution_count": 2,
   "metadata": {},
   "outputs": [],
   "source": [
    "import json\n",
    "import getpass\n",
    "import logging\n",
    "import os\n",
    "import time\n",
    "\n",
    "from slackclient import SlackClient\n",
    "\n",
    "logging.basicConfig(level=logging.DEBUG)\n",
    "\n",
    "__logs__ = logging.getLogger(__name__)\n",
    "\n",
    "        \n",
    "class LordBot(object):\n",
    "    \"\"\"\n",
    "    The main core of the bot. Even though this is the core it is meant to be pretty dumb to\n",
    "    the rest of application. It's main purpose is to act as a broker between the slack rtm api\n",
    "    and the dispatcher.\n",
    "    \"\"\"\n",
    "    def __init__(self, token=None):\n",
    "        __logs__.info('Lordbot commencing initialization protocols.')\n",
    "        self.token = self._get_token()\n",
    "        self.sc = SlackClient(self.token)\n",
    "        \n",
    "    def _get_token(self):\n",
    "        \"\"\"\n",
    "        A nice internal utility function for when working in a jupyter notebook ;)\n",
    "        \"\"\"\n",
    "        # check the environment for the token if it is not there prompt the user\n",
    "        token = os.environ.get('API_TOKEN', None)\n",
    "        if token:\n",
    "            __logs__.info('Slack token found in the environment.')\n",
    "            token = token\n",
    "        else:\n",
    "            __logs__.info('No slack token detected please enter one into the system now.')\n",
    "            token = getpass.getpass(prompt='Please enter your slack token')\n",
    "            os.environ['API_TOKEN'] = token\n",
    "            return token\n",
    "    \n",
    "    def run(self):\n",
    "        \"\"\"\n",
    "        Run the bot loop\n",
    "        \"\"\"\n",
    "        if self.sc.rtm_connect():\n",
    "            while True:\n",
    "                try:\n",
    "                    msg = self.sc.rtm_read()\n",
    "                    if msg:\n",
    "                        print(msg)\n",
    "                        time.sleep(1)\n",
    "                except KeyboardInterrupt:\n",
    "                    pass\n"
   ]
  },
  {
   "cell_type": "code",
   "execution_count": null,
   "metadata": {},
   "outputs": [
    {
     "name": "stderr",
     "output_type": "stream",
     "text": [
      "INFO:__main__:Lordbot commencing initialization protocols.\n",
      "INFO:__main__:No slack token detected please enter one into the system now.\n"
     ]
    },
    {
     "name": "stdout",
     "output_type": "stream",
     "text": [
      "Please enter your slack token········\n"
     ]
    },
    {
     "name": "stderr",
     "output_type": "stream",
     "text": [
      "DEBUG:urllib3.connectionpool:Starting new HTTPS connection (1): slack.com\n",
      "DEBUG:urllib3.connectionpool:https://slack.com:443 \"POST /api/rtm.start HTTP/1.1\" 200 7131\n"
     ]
    },
    {
     "name": "stdout",
     "output_type": "stream",
     "text": [
      "[{'type': 'hello'}]\n",
      "[{'type': 'message', 'reply_to': 26159, 'ts': '1501915798.775121', 'text': 'adfasdf', 'user': 'U04QK3SDK', 'channel': 'C04PRN1A4'}]\n",
      "[{'type': 'reconnect_url', 'url': 'wss://mpmulti-iapu.slack-msgs.com/websocket/uPwVoDwQ_iHhQc8P_0_3M3WoOKXG5CfHasjlzOAAUO5UUIlspll1_Aqq1CuMH81apGvpOD3CdRrNcfZodOJxvguIYEvUNa8YyQ0vody0m4Fcx4vkT2Fm3ncI56xmNSQnEzVDYYli9SZu91cHntCk3-HyX_aCaC0JPmsDtq9NVUY='}]\n"
     ]
    }
   ],
   "source": [
    "lordbot = LordBot()\n",
    "lordbot.run()"
   ]
  },
  {
   "cell_type": "code",
   "execution_count": null,
   "metadata": {
    "collapsed": true
   },
   "outputs": [],
   "source": []
  }
 ],
 "metadata": {
  "kernelspec": {
   "display_name": "Python 3",
   "language": "python",
   "name": "python3"
  },
  "language_info": {
   "codemirror_mode": {
    "name": "ipython",
    "version": 3
   },
   "file_extension": ".py",
   "mimetype": "text/x-python",
   "name": "python",
   "nbconvert_exporter": "python",
   "pygments_lexer": "ipython3",
   "version": "3.6.0a3"
  }
 },
 "nbformat": 4,
 "nbformat_minor": 2
}
